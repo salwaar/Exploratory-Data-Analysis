{
 "cells": [
  {
   "cell_type": "markdown",
   "metadata": {},
   "source": [
    "### The Theoretical Questions"
   ]
  },
  {
   "cell_type": "code",
   "execution_count": null,
   "metadata": {},
   "outputs": [],
   "source": [
    "function splitSwap(a, l, n):\n",
    "    if n <= 1:\n",
    "        return\n",
    "    splitSwap(a, l, n/2)\n",
    "    splitSwap(a, l+ n /2 , n/2)\n",
    "    swapList(a, l, n)\n",
    "  \n",
    "# The subroutine swapList is described here:\n",
    "\n",
    "function swapList(a, l, n):\n",
    "    for i = 0 to n/2:\n",
    "        tmp = a[l + i]\n",
    "        a[l + i] = a[l + n/2 + i]\n",
    "        a[l + n/2 + i] = tmp\n",
    "    "
   ]
  },
  {
   "cell_type": "markdown",
   "metadata": {},
   "source": [
    "## 1- How much running time does it take to execute splitSwap(a, 0, n)? (We want a Big O analysis.)"
   ]
  },
  {
   "cell_type": "markdown",
   "metadata": {},
   "source": [
    "Assuming the time needed to execute the function in T(n) ,\n",
    "C constant for the 'FOR loop' , two Recursive calls 2T(.) each with n/2 and another function called 'swapList' which has running time:\n",
    "\n",
    "T(n)=4c+n/2\n",
    "\n",
    "T(n)=n/2 means the running time is O(n)\n",
    "\n",
    "back to splitSwap :\n",
    "\n",
    "\n",
    "assuming the time needed to execute the function in T(n) but if n<=1 the time complexity is O(1).\n",
    "\n",
    "\n",
    "T(n) = C + 2T(n/2) + n\n",
    "\n",
    "T(n) = 2T(n / 2 ) + n\n",
    "\n",
    "Simplifying more >> T(n/2)= 2T(n/2^2) + n/2\n",
    "\n",
    "T(n)=2[ 2T (n/2^2) + n/2] +n\n",
    "\n",
    "    = 2^2[ T(n / 2^2) ]+ n + n\n",
    "\n",
    "Simplifying more >> T(n / 2^2) =  2T[n / 2^3]+n / 2^2\n",
    "         \n",
    "T(n)=  2^2[ 2 T(n / 2^3) (n /2^2)  ]+ n + n\n",
    "\n",
    "      =2^3(n/2^3)+3n \n",
    "      \n",
    "T(n)= 2^K T(n / 2^K) + Kn\n",
    " \n",
    "       \n",
    "In more details:\n",
    "\n",
    "           n/2^K=1\n",
    "                      \n",
    "           n=2^K\n",
    "                     \n",
    "           K=log (n)\n",
    "           \n",
    "           \n",
    "The algorithm has running time of O(n log (n) )\n",
    "\n"
   ]
  },
  {
   "cell_type": "markdown",
   "metadata": {},
   "source": [
    "## 2-What does this algorithm do? Is it optimal? Describe the mechanism of the algorithm in details, we do not want to know only its final result."
   ]
  },
  {
   "cell_type": "markdown",
   "metadata": {},
   "source": [
    "### B) The algorithm machnisim:\n",
    "\n",
    "The algorithm takes an array a of length n , \n",
    "\n",
    "    splitSwap(a, l, n//2)\n",
    "the first step if n its not a (n<=1) it will continue to the first call which split the array to half of it length till it's not splittable where n is 1 which means n is equal to 1.\n",
    "\n",
    "    splitSwap(a, l+ n //2 , n//2)\n",
    "the second call for the function will be executed after the first call reaches n=1 but it doesn’t take the actual last value on n which 1 due to the null return statement .thus, it take n=2. the function keep checking the condition of n=1 if true the next function will be called swapList(a, l, n)\n",
    "\n",
    "    def swapList(a, l, n):\n",
    "now that both calls return value 1 the last function is called: swapList , which swaps the position of the first half of the array given by the Previous function and do the same for every halves,  at the end the function swap the halves position "
   ]
  },
  {
   "cell_type": "code",
   "execution_count": 36,
   "metadata": {},
   "outputs": [
    {
     "name": "stdout",
     "output_type": "stream",
     "text": [
      "[1, 2, 3, 4, 5, 6, 7, 8]\n",
      "[1, 2, 3, 4, 5, 6, 7, 8]\n",
      "[1, 2, 3, 4, 5, 6, 7, 8]\n",
      "0\n",
      "[2, 1, 3, 4, 5, 6, 7, 8]\n",
      "[2, 1, 3, 4, 5, 6, 7, 8]\n",
      "[2, 1, 3, 4, 5, 6, 7, 8]\n",
      "[2, 1, 3, 4, 5, 6, 7, 8]\n",
      "2\n",
      "[2, 1, 4, 3, 5, 6, 7, 8]\n",
      "[2, 1, 4, 3, 5, 6, 7, 8]\n",
      "0\n",
      "[4, 1, 2, 3, 5, 6, 7, 8]\n",
      "0\n",
      "0\n",
      "[4, 3, 2, 1, 5, 6, 7, 8]\n"
     ]
    }
   ],
   "source": [
    "a = [1,2,3,4,5,6,7,8]\n",
    "l = 0\n",
    "n = 4\n",
    "\n",
    "def splitSwap(a, l, n):\n",
    "    if n <= 1:\n",
    "        return\n",
    "    splitSwap(a, l, n//2)\n",
    "    print(a)\n",
    "\n",
    "    splitSwap(a, l+ n //2 , n//2)\n",
    "    print(a)\n",
    "\n",
    "    swapList(a, l, n)\n",
    "\n",
    "  \n",
    "# The subroutine swapList is described here:\n",
    "\n",
    "def swapList(a, l, n):\n",
    "    for i in range( n//2):\n",
    "        tmp = a[l + i]\n",
    "        print(a)\n",
    "\n",
    "        a[l + i] = a[l + n//2 + i]\n",
    "        a[l + n//2 + i] = tmp\n",
    "        print(l)\n",
    "\n",
    "        \n",
    "splitSwap(a, l, n)\n",
    "# print(n)\n",
    "print(l)\n",
    "print(a)"
   ]
  }
 ],
 "metadata": {
  "kernelspec": {
   "display_name": "Python 3",
   "language": "python",
   "name": "python3"
  },
  "language_info": {
   "codemirror_mode": {
    "name": "ipython",
    "version": 3
   },
   "file_extension": ".py",
   "mimetype": "text/x-python",
   "name": "python",
   "nbconvert_exporter": "python",
   "pygments_lexer": "ipython3",
   "version": "3.7.3"
  }
 },
 "nbformat": 4,
 "nbformat_minor": 4
}
